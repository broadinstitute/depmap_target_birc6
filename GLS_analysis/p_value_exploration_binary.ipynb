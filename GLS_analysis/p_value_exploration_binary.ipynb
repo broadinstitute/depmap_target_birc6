{
  "cells": [
    {
      "cell_type": "markdown",
      "metadata": {
        "id": "UNYKsOQdtAYv"
      },
      "source": [
        "# P Value explorations"
      ]
    },
    {
      "cell_type": "code",
      "source": [
        "from google.colab import drive\n",
        "drive.mount('/content/drive')"
      ],
      "metadata": {
        "colab": {
          "base_uri": "https://localhost:8080/"
        },
        "id": "a_B8CmUntHqC",
        "outputId": "8844dafc-c5e2-4f75-8edb-ae1ea000909c"
      },
      "execution_count": null,
      "outputs": [
        {
          "output_type": "stream",
          "name": "stdout",
          "text": [
            "Mounted at /content/drive\n"
          ]
        }
      ]
    },
    {
      "cell_type": "code",
      "source": [
        "TOP_CUTOFF = 2000"
      ],
      "metadata": {
        "id": "xGjW8vLRWhDu"
      },
      "execution_count": null,
      "outputs": []
    },
    {
      "cell_type": "code",
      "execution_count": null,
      "metadata": {
        "id": "XU6r4srBtAYx"
      },
      "outputs": [],
      "source": [
        "import numpy as np\n",
        "import pandas as pd\n",
        "import seaborn as sns"
      ]
    },
    {
      "cell_type": "markdown",
      "metadata": {
        "id": "odNQw7HYtAYy"
      },
      "source": [
        "### Broad data"
      ]
    },
    {
      "cell_type": "code",
      "execution_count": null,
      "metadata": {
        "colab": {
          "base_uri": "https://localhost:8080/",
          "height": 331
        },
        "id": "bmeis9PqtAYz",
        "outputId": "626243f5-ad78-42ea-e19e-2f4322d2042b"
      },
      "outputs": [
        {
          "output_type": "execute_result",
          "data": {
            "text/plain": [
              "Gene         A1BG      A1CF       A2M     A2ML1   A3GALT2    A4GALT     A4GNT  \\\n",
              "Gene                                                                            \n",
              "A1BG     1.000000  0.421398  0.838423  0.957018  0.976518  0.879364  0.379890   \n",
              "A1CF     0.371321  1.000000  0.935765  0.794375  0.352018  0.088526  0.342203   \n",
              "A2M      0.854300  0.947956  1.000000  0.135207  0.870497  0.837008  0.970877   \n",
              "A2ML1    0.953398  0.799373  0.072066  1.000000  0.132308  0.307946  0.598663   \n",
              "A3GALT2  0.973254  0.340407  0.836637  0.113874  1.000000  0.995786  0.927406   \n",
              "\n",
              "Gene         AAAS      AACS     AADAC  ...    ZWILCH     ZWINT      ZXDA  \\\n",
              "Gene                                   ...                                 \n",
              "A1BG     0.923165  0.660626  0.491128  ...  0.278875  0.878354  0.433341   \n",
              "A1CF     0.762855  0.331526  0.899630  ...  0.910471  0.468423  0.318420   \n",
              "A2M      0.690337  0.820500  0.726805  ...  0.165059  0.923987  0.947621   \n",
              "A2ML1    0.368682  0.261727  0.247849  ...  0.087278  0.369606  0.136582   \n",
              "A3GALT2  0.910173  0.484322  0.724357  ...  0.435915  0.430876  0.698936   \n",
              "\n",
              "Gene         ZXDB      ZXDC    ZYG11A    ZYG11B       ZYX     ZZEF1      ZZZ3  \n",
              "Gene                                                                           \n",
              "A1BG     0.659358  0.981237  0.425273  0.685349  0.161875  0.372194  0.991257  \n",
              "A1CF     0.580566  0.283443  0.764816  0.732277  0.781364  0.766559  0.973953  \n",
              "A2M      0.620128  0.561395  0.905695  0.286510  0.386280  0.146632  0.877342  \n",
              "A2ML1    0.203066  0.020964  0.612614  0.963391  0.647508  0.963570  0.711884  \n",
              "A3GALT2  0.466266  0.143173  0.088642  0.955979  0.585833  0.669208  0.415079  \n",
              "\n",
              "[5 rows x 17386 columns]"
            ],
            "text/html": [
              "\n",
              "  <div id=\"df-6ce0c25f-502c-4c92-a8cf-5905b00f0ce7\">\n",
              "    <div class=\"colab-df-container\">\n",
              "      <div>\n",
              "<style scoped>\n",
              "    .dataframe tbody tr th:only-of-type {\n",
              "        vertical-align: middle;\n",
              "    }\n",
              "\n",
              "    .dataframe tbody tr th {\n",
              "        vertical-align: top;\n",
              "    }\n",
              "\n",
              "    .dataframe thead th {\n",
              "        text-align: right;\n",
              "    }\n",
              "</style>\n",
              "<table border=\"1\" class=\"dataframe\">\n",
              "  <thead>\n",
              "    <tr style=\"text-align: right;\">\n",
              "      <th>Gene</th>\n",
              "      <th>A1BG</th>\n",
              "      <th>A1CF</th>\n",
              "      <th>A2M</th>\n",
              "      <th>A2ML1</th>\n",
              "      <th>A3GALT2</th>\n",
              "      <th>A4GALT</th>\n",
              "      <th>A4GNT</th>\n",
              "      <th>AAAS</th>\n",
              "      <th>AACS</th>\n",
              "      <th>AADAC</th>\n",
              "      <th>...</th>\n",
              "      <th>ZWILCH</th>\n",
              "      <th>ZWINT</th>\n",
              "      <th>ZXDA</th>\n",
              "      <th>ZXDB</th>\n",
              "      <th>ZXDC</th>\n",
              "      <th>ZYG11A</th>\n",
              "      <th>ZYG11B</th>\n",
              "      <th>ZYX</th>\n",
              "      <th>ZZEF1</th>\n",
              "      <th>ZZZ3</th>\n",
              "    </tr>\n",
              "    <tr>\n",
              "      <th>Gene</th>\n",
              "      <th></th>\n",
              "      <th></th>\n",
              "      <th></th>\n",
              "      <th></th>\n",
              "      <th></th>\n",
              "      <th></th>\n",
              "      <th></th>\n",
              "      <th></th>\n",
              "      <th></th>\n",
              "      <th></th>\n",
              "      <th></th>\n",
              "      <th></th>\n",
              "      <th></th>\n",
              "      <th></th>\n",
              "      <th></th>\n",
              "      <th></th>\n",
              "      <th></th>\n",
              "      <th></th>\n",
              "      <th></th>\n",
              "      <th></th>\n",
              "      <th></th>\n",
              "    </tr>\n",
              "  </thead>\n",
              "  <tbody>\n",
              "    <tr>\n",
              "      <th>A1BG</th>\n",
              "      <td>1.000000</td>\n",
              "      <td>0.421398</td>\n",
              "      <td>0.838423</td>\n",
              "      <td>0.957018</td>\n",
              "      <td>0.976518</td>\n",
              "      <td>0.879364</td>\n",
              "      <td>0.379890</td>\n",
              "      <td>0.923165</td>\n",
              "      <td>0.660626</td>\n",
              "      <td>0.491128</td>\n",
              "      <td>...</td>\n",
              "      <td>0.278875</td>\n",
              "      <td>0.878354</td>\n",
              "      <td>0.433341</td>\n",
              "      <td>0.659358</td>\n",
              "      <td>0.981237</td>\n",
              "      <td>0.425273</td>\n",
              "      <td>0.685349</td>\n",
              "      <td>0.161875</td>\n",
              "      <td>0.372194</td>\n",
              "      <td>0.991257</td>\n",
              "    </tr>\n",
              "    <tr>\n",
              "      <th>A1CF</th>\n",
              "      <td>0.371321</td>\n",
              "      <td>1.000000</td>\n",
              "      <td>0.935765</td>\n",
              "      <td>0.794375</td>\n",
              "      <td>0.352018</td>\n",
              "      <td>0.088526</td>\n",
              "      <td>0.342203</td>\n",
              "      <td>0.762855</td>\n",
              "      <td>0.331526</td>\n",
              "      <td>0.899630</td>\n",
              "      <td>...</td>\n",
              "      <td>0.910471</td>\n",
              "      <td>0.468423</td>\n",
              "      <td>0.318420</td>\n",
              "      <td>0.580566</td>\n",
              "      <td>0.283443</td>\n",
              "      <td>0.764816</td>\n",
              "      <td>0.732277</td>\n",
              "      <td>0.781364</td>\n",
              "      <td>0.766559</td>\n",
              "      <td>0.973953</td>\n",
              "    </tr>\n",
              "    <tr>\n",
              "      <th>A2M</th>\n",
              "      <td>0.854300</td>\n",
              "      <td>0.947956</td>\n",
              "      <td>1.000000</td>\n",
              "      <td>0.135207</td>\n",
              "      <td>0.870497</td>\n",
              "      <td>0.837008</td>\n",
              "      <td>0.970877</td>\n",
              "      <td>0.690337</td>\n",
              "      <td>0.820500</td>\n",
              "      <td>0.726805</td>\n",
              "      <td>...</td>\n",
              "      <td>0.165059</td>\n",
              "      <td>0.923987</td>\n",
              "      <td>0.947621</td>\n",
              "      <td>0.620128</td>\n",
              "      <td>0.561395</td>\n",
              "      <td>0.905695</td>\n",
              "      <td>0.286510</td>\n",
              "      <td>0.386280</td>\n",
              "      <td>0.146632</td>\n",
              "      <td>0.877342</td>\n",
              "    </tr>\n",
              "    <tr>\n",
              "      <th>A2ML1</th>\n",
              "      <td>0.953398</td>\n",
              "      <td>0.799373</td>\n",
              "      <td>0.072066</td>\n",
              "      <td>1.000000</td>\n",
              "      <td>0.132308</td>\n",
              "      <td>0.307946</td>\n",
              "      <td>0.598663</td>\n",
              "      <td>0.368682</td>\n",
              "      <td>0.261727</td>\n",
              "      <td>0.247849</td>\n",
              "      <td>...</td>\n",
              "      <td>0.087278</td>\n",
              "      <td>0.369606</td>\n",
              "      <td>0.136582</td>\n",
              "      <td>0.203066</td>\n",
              "      <td>0.020964</td>\n",
              "      <td>0.612614</td>\n",
              "      <td>0.963391</td>\n",
              "      <td>0.647508</td>\n",
              "      <td>0.963570</td>\n",
              "      <td>0.711884</td>\n",
              "    </tr>\n",
              "    <tr>\n",
              "      <th>A3GALT2</th>\n",
              "      <td>0.973254</td>\n",
              "      <td>0.340407</td>\n",
              "      <td>0.836637</td>\n",
              "      <td>0.113874</td>\n",
              "      <td>1.000000</td>\n",
              "      <td>0.995786</td>\n",
              "      <td>0.927406</td>\n",
              "      <td>0.910173</td>\n",
              "      <td>0.484322</td>\n",
              "      <td>0.724357</td>\n",
              "      <td>...</td>\n",
              "      <td>0.435915</td>\n",
              "      <td>0.430876</td>\n",
              "      <td>0.698936</td>\n",
              "      <td>0.466266</td>\n",
              "      <td>0.143173</td>\n",
              "      <td>0.088642</td>\n",
              "      <td>0.955979</td>\n",
              "      <td>0.585833</td>\n",
              "      <td>0.669208</td>\n",
              "      <td>0.415079</td>\n",
              "    </tr>\n",
              "  </tbody>\n",
              "</table>\n",
              "<p>5 rows × 17386 columns</p>\n",
              "</div>\n",
              "      <button class=\"colab-df-convert\" onclick=\"convertToInteractive('df-6ce0c25f-502c-4c92-a8cf-5905b00f0ce7')\"\n",
              "              title=\"Convert this dataframe to an interactive table.\"\n",
              "              style=\"display:none;\">\n",
              "        \n",
              "  <svg xmlns=\"http://www.w3.org/2000/svg\" height=\"24px\"viewBox=\"0 0 24 24\"\n",
              "       width=\"24px\">\n",
              "    <path d=\"M0 0h24v24H0V0z\" fill=\"none\"/>\n",
              "    <path d=\"M18.56 5.44l.94 2.06.94-2.06 2.06-.94-2.06-.94-.94-2.06-.94 2.06-2.06.94zm-11 1L8.5 8.5l.94-2.06 2.06-.94-2.06-.94L8.5 2.5l-.94 2.06-2.06.94zm10 10l.94 2.06.94-2.06 2.06-.94-2.06-.94-.94-2.06-.94 2.06-2.06.94z\"/><path d=\"M17.41 7.96l-1.37-1.37c-.4-.4-.92-.59-1.43-.59-.52 0-1.04.2-1.43.59L10.3 9.45l-7.72 7.72c-.78.78-.78 2.05 0 2.83L4 21.41c.39.39.9.59 1.41.59.51 0 1.02-.2 1.41-.59l7.78-7.78 2.81-2.81c.8-.78.8-2.07 0-2.86zM5.41 20L4 18.59l7.72-7.72 1.47 1.35L5.41 20z\"/>\n",
              "  </svg>\n",
              "      </button>\n",
              "      \n",
              "  <style>\n",
              "    .colab-df-container {\n",
              "      display:flex;\n",
              "      flex-wrap:wrap;\n",
              "      gap: 12px;\n",
              "    }\n",
              "\n",
              "    .colab-df-convert {\n",
              "      background-color: #E8F0FE;\n",
              "      border: none;\n",
              "      border-radius: 50%;\n",
              "      cursor: pointer;\n",
              "      display: none;\n",
              "      fill: #1967D2;\n",
              "      height: 32px;\n",
              "      padding: 0 0 0 0;\n",
              "      width: 32px;\n",
              "    }\n",
              "\n",
              "    .colab-df-convert:hover {\n",
              "      background-color: #E2EBFA;\n",
              "      box-shadow: 0px 1px 2px rgba(60, 64, 67, 0.3), 0px 1px 3px 1px rgba(60, 64, 67, 0.15);\n",
              "      fill: #174EA6;\n",
              "    }\n",
              "\n",
              "    [theme=dark] .colab-df-convert {\n",
              "      background-color: #3B4455;\n",
              "      fill: #D2E3FC;\n",
              "    }\n",
              "\n",
              "    [theme=dark] .colab-df-convert:hover {\n",
              "      background-color: #434B5C;\n",
              "      box-shadow: 0px 1px 3px 1px rgba(0, 0, 0, 0.15);\n",
              "      filter: drop-shadow(0px 1px 2px rgba(0, 0, 0, 0.3));\n",
              "      fill: #FFFFFF;\n",
              "    }\n",
              "  </style>\n",
              "\n",
              "      <script>\n",
              "        const buttonEl =\n",
              "          document.querySelector('#df-6ce0c25f-502c-4c92-a8cf-5905b00f0ce7 button.colab-df-convert');\n",
              "        buttonEl.style.display =\n",
              "          google.colab.kernel.accessAllowed ? 'block' : 'none';\n",
              "\n",
              "        async function convertToInteractive(key) {\n",
              "          const element = document.querySelector('#df-6ce0c25f-502c-4c92-a8cf-5905b00f0ce7');\n",
              "          const dataTable =\n",
              "            await google.colab.kernel.invokeFunction('convertToInteractive',\n",
              "                                                     [key], {});\n",
              "          if (!dataTable) return;\n",
              "\n",
              "          const docLinkHtml = 'Like what you see? Visit the ' +\n",
              "            '<a target=\"_blank\" href=https://colab.research.google.com/notebooks/data_table.ipynb>data table notebook</a>'\n",
              "            + ' to learn more about interactive tables.';\n",
              "          element.innerHTML = '';\n",
              "          dataTable['output_type'] = 'display_data';\n",
              "          await google.colab.output.renderOutput(dataTable, element);\n",
              "          const docLink = document.createElement('div');\n",
              "          docLink.innerHTML = docLinkHtml;\n",
              "          element.appendChild(docLink);\n",
              "        }\n",
              "      </script>\n",
              "    </div>\n",
              "  </div>\n",
              "  "
            ]
          },
          "metadata": {},
          "execution_count": 4
        }
      ],
      "source": [
        "coessentiality_matrix = pd.read_feather(\"/content/drive/MyDrive/Professional/TDA_BRIC6/GLS_p.ftr\")\n",
        "coessentiality_matrix.index = coessentiality_matrix.columns\n",
        "coessentiality_matrix.index.name = \"Gene\"\n",
        "coessentiality_matrix.head()"
      ]
    },
    {
      "cell_type": "code",
      "execution_count": null,
      "metadata": {
        "colab": {
          "base_uri": "https://localhost:8080/",
          "height": 238
        },
        "id": "p135u1JmtAY0",
        "outputId": "c16c376f-355b-4a14-acf6-758cec5c565f"
      },
      "outputs": [
        {
          "output_type": "execute_result",
          "data": {
            "text/plain": [
              "Gene               UBR4           UBA6          BIRC6          KCMF1  \\\n",
              "Gene                                                                   \n",
              "UBR4       1.000000e+00   2.220906e-47   1.425905e-71  5.123562e-269   \n",
              "UBA6       2.854197e-21   1.000000e+00  1.110987e-139   3.160991e-07   \n",
              "BIRC6      3.948663e-40  2.178266e-178   1.000000e+00   1.511020e-28   \n",
              "KCMF1     1.793441e-236   2.530435e-13   1.325543e-44   1.000000e+00   \n",
              "PPP1R15B   1.480050e-12   3.078575e-24   5.208381e-35   1.016205e-11   \n",
              "\n",
              "Gene          PPP1R15B  \n",
              "Gene                    \n",
              "UBR4      1.281213e-14  \n",
              "UBA6      4.331556e-13  \n",
              "BIRC6     2.137640e-23  \n",
              "KCMF1     3.793122e-12  \n",
              "PPP1R15B  1.000000e+00  "
            ],
            "text/html": [
              "\n",
              "  <div id=\"df-5d94c3c3-c4d8-4f08-874b-fce244aa3952\">\n",
              "    <div class=\"colab-df-container\">\n",
              "      <div>\n",
              "<style scoped>\n",
              "    .dataframe tbody tr th:only-of-type {\n",
              "        vertical-align: middle;\n",
              "    }\n",
              "\n",
              "    .dataframe tbody tr th {\n",
              "        vertical-align: top;\n",
              "    }\n",
              "\n",
              "    .dataframe thead th {\n",
              "        text-align: right;\n",
              "    }\n",
              "</style>\n",
              "<table border=\"1\" class=\"dataframe\">\n",
              "  <thead>\n",
              "    <tr style=\"text-align: right;\">\n",
              "      <th>Gene</th>\n",
              "      <th>UBR4</th>\n",
              "      <th>UBA6</th>\n",
              "      <th>BIRC6</th>\n",
              "      <th>KCMF1</th>\n",
              "      <th>PPP1R15B</th>\n",
              "    </tr>\n",
              "    <tr>\n",
              "      <th>Gene</th>\n",
              "      <th></th>\n",
              "      <th></th>\n",
              "      <th></th>\n",
              "      <th></th>\n",
              "      <th></th>\n",
              "    </tr>\n",
              "  </thead>\n",
              "  <tbody>\n",
              "    <tr>\n",
              "      <th>UBR4</th>\n",
              "      <td>1.000000e+00</td>\n",
              "      <td>2.220906e-47</td>\n",
              "      <td>1.425905e-71</td>\n",
              "      <td>5.123562e-269</td>\n",
              "      <td>1.281213e-14</td>\n",
              "    </tr>\n",
              "    <tr>\n",
              "      <th>UBA6</th>\n",
              "      <td>2.854197e-21</td>\n",
              "      <td>1.000000e+00</td>\n",
              "      <td>1.110987e-139</td>\n",
              "      <td>3.160991e-07</td>\n",
              "      <td>4.331556e-13</td>\n",
              "    </tr>\n",
              "    <tr>\n",
              "      <th>BIRC6</th>\n",
              "      <td>3.948663e-40</td>\n",
              "      <td>2.178266e-178</td>\n",
              "      <td>1.000000e+00</td>\n",
              "      <td>1.511020e-28</td>\n",
              "      <td>2.137640e-23</td>\n",
              "    </tr>\n",
              "    <tr>\n",
              "      <th>KCMF1</th>\n",
              "      <td>1.793441e-236</td>\n",
              "      <td>2.530435e-13</td>\n",
              "      <td>1.325543e-44</td>\n",
              "      <td>1.000000e+00</td>\n",
              "      <td>3.793122e-12</td>\n",
              "    </tr>\n",
              "    <tr>\n",
              "      <th>PPP1R15B</th>\n",
              "      <td>1.480050e-12</td>\n",
              "      <td>3.078575e-24</td>\n",
              "      <td>5.208381e-35</td>\n",
              "      <td>1.016205e-11</td>\n",
              "      <td>1.000000e+00</td>\n",
              "    </tr>\n",
              "  </tbody>\n",
              "</table>\n",
              "</div>\n",
              "      <button class=\"colab-df-convert\" onclick=\"convertToInteractive('df-5d94c3c3-c4d8-4f08-874b-fce244aa3952')\"\n",
              "              title=\"Convert this dataframe to an interactive table.\"\n",
              "              style=\"display:none;\">\n",
              "        \n",
              "  <svg xmlns=\"http://www.w3.org/2000/svg\" height=\"24px\"viewBox=\"0 0 24 24\"\n",
              "       width=\"24px\">\n",
              "    <path d=\"M0 0h24v24H0V0z\" fill=\"none\"/>\n",
              "    <path d=\"M18.56 5.44l.94 2.06.94-2.06 2.06-.94-2.06-.94-.94-2.06-.94 2.06-2.06.94zm-11 1L8.5 8.5l.94-2.06 2.06-.94-2.06-.94L8.5 2.5l-.94 2.06-2.06.94zm10 10l.94 2.06.94-2.06 2.06-.94-2.06-.94-.94-2.06-.94 2.06-2.06.94z\"/><path d=\"M17.41 7.96l-1.37-1.37c-.4-.4-.92-.59-1.43-.59-.52 0-1.04.2-1.43.59L10.3 9.45l-7.72 7.72c-.78.78-.78 2.05 0 2.83L4 21.41c.39.39.9.59 1.41.59.51 0 1.02-.2 1.41-.59l7.78-7.78 2.81-2.81c.8-.78.8-2.07 0-2.86zM5.41 20L4 18.59l7.72-7.72 1.47 1.35L5.41 20z\"/>\n",
              "  </svg>\n",
              "      </button>\n",
              "      \n",
              "  <style>\n",
              "    .colab-df-container {\n",
              "      display:flex;\n",
              "      flex-wrap:wrap;\n",
              "      gap: 12px;\n",
              "    }\n",
              "\n",
              "    .colab-df-convert {\n",
              "      background-color: #E8F0FE;\n",
              "      border: none;\n",
              "      border-radius: 50%;\n",
              "      cursor: pointer;\n",
              "      display: none;\n",
              "      fill: #1967D2;\n",
              "      height: 32px;\n",
              "      padding: 0 0 0 0;\n",
              "      width: 32px;\n",
              "    }\n",
              "\n",
              "    .colab-df-convert:hover {\n",
              "      background-color: #E2EBFA;\n",
              "      box-shadow: 0px 1px 2px rgba(60, 64, 67, 0.3), 0px 1px 3px 1px rgba(60, 64, 67, 0.15);\n",
              "      fill: #174EA6;\n",
              "    }\n",
              "\n",
              "    [theme=dark] .colab-df-convert {\n",
              "      background-color: #3B4455;\n",
              "      fill: #D2E3FC;\n",
              "    }\n",
              "\n",
              "    [theme=dark] .colab-df-convert:hover {\n",
              "      background-color: #434B5C;\n",
              "      box-shadow: 0px 1px 3px 1px rgba(0, 0, 0, 0.15);\n",
              "      filter: drop-shadow(0px 1px 2px rgba(0, 0, 0, 0.3));\n",
              "      fill: #FFFFFF;\n",
              "    }\n",
              "  </style>\n",
              "\n",
              "      <script>\n",
              "        const buttonEl =\n",
              "          document.querySelector('#df-5d94c3c3-c4d8-4f08-874b-fce244aa3952 button.colab-df-convert');\n",
              "        buttonEl.style.display =\n",
              "          google.colab.kernel.accessAllowed ? 'block' : 'none';\n",
              "\n",
              "        async function convertToInteractive(key) {\n",
              "          const element = document.querySelector('#df-5d94c3c3-c4d8-4f08-874b-fce244aa3952');\n",
              "          const dataTable =\n",
              "            await google.colab.kernel.invokeFunction('convertToInteractive',\n",
              "                                                     [key], {});\n",
              "          if (!dataTable) return;\n",
              "\n",
              "          const docLinkHtml = 'Like what you see? Visit the ' +\n",
              "            '<a target=\"_blank\" href=https://colab.research.google.com/notebooks/data_table.ipynb>data table notebook</a>'\n",
              "            + ' to learn more about interactive tables.';\n",
              "          element.innerHTML = '';\n",
              "          dataTable['output_type'] = 'display_data';\n",
              "          await google.colab.output.renderOutput(dataTable, element);\n",
              "          const docLink = document.createElement('div');\n",
              "          docLink.innerHTML = docLinkHtml;\n",
              "          element.appendChild(docLink);\n",
              "        }\n",
              "      </script>\n",
              "    </div>\n",
              "  </div>\n",
              "  "
            ]
          },
          "metadata": {},
          "execution_count": 5
        }
      ],
      "source": [
        "coessentiality_matrix.loc[[\"UBR4\",\"UBA6\",\"BIRC6\",\"KCMF1\", \"PPP1R15B\"],[\"UBR4\",\"UBA6\",\"BIRC6\",\"KCMF1\",\"PPP1R15B\"]]"
      ]
    },
    {
      "cell_type": "code",
      "execution_count": null,
      "metadata": {
        "id": "a31sCNVFtAY0"
      },
      "outputs": [],
      "source": [
        "coessentiality_matrix_flattened = coessentiality_matrix.values.flatten()\n",
        "coessentiality_matrix_flattened = np.sort(coessentiality_matrix_flattened)"
      ]
    },
    {
      "cell_type": "code",
      "execution_count": null,
      "metadata": {
        "id": "xdG2D6XZtAY1"
      },
      "outputs": [],
      "source": [
        "threshold_limit = coessentiality_matrix_flattened[TOP_CUTOFF]"
      ]
    },
    {
      "cell_type": "code",
      "execution_count": null,
      "metadata": {
        "id": "IaMocYd1tAY1"
      },
      "outputs": [],
      "source": [
        "connectivity_matrix = coessentiality_matrix<threshold_limit"
      ]
    },
    {
      "cell_type": "code",
      "source": [
        "connectivity_matrix = (connectivity_matrix) | (connectivity_matrix.transpose())"
      ],
      "metadata": {
        "id": "wpP6V6YJ5O6f"
      },
      "execution_count": null,
      "outputs": []
    },
    {
      "cell_type": "code",
      "execution_count": null,
      "metadata": {
        "colab": {
          "base_uri": "https://localhost:8080/"
        },
        "id": "ox2JHbf5tAY2",
        "outputId": "aa302ad1-d107-44ba-c6db-6f67b5fdca35"
      },
      "outputs": [
        {
          "output_type": "execute_result",
          "data": {
            "text/plain": [
              "2548"
            ]
          },
          "metadata": {},
          "execution_count": 10
        }
      ],
      "source": [
        "connectivity_matrix.sum().sum()"
      ]
    },
    {
      "cell_type": "code",
      "execution_count": null,
      "metadata": {
        "colab": {
          "base_uri": "https://localhost:8080/"
        },
        "id": "OcGKfhmZtAY2",
        "outputId": "5ae01d41-80bf-49d8-bb0e-c446e3167e1f"
      },
      "outputs": [
        {
          "output_type": "execute_result",
          "data": {
            "text/plain": [
              "True"
            ]
          },
          "metadata": {},
          "execution_count": 11
        }
      ],
      "source": [
        "## Check if symmetric matrix\n",
        "(connectivity_matrix.transpose() == connectivity_matrix).all().all()"
      ]
    },
    {
      "cell_type": "code",
      "execution_count": null,
      "metadata": {
        "colab": {
          "base_uri": "https://localhost:8080/"
        },
        "id": "zqUhOdrxtAY3",
        "outputId": "e6fa2df6-aada-4c65-b9b1-a7feb88ed78b"
      },
      "outputs": [
        {
          "output_type": "execute_result",
          "data": {
            "text/plain": [
              "pandas.core.frame.DataFrame"
            ]
          },
          "metadata": {},
          "execution_count": 12
        }
      ],
      "source": [
        "type(connectivity_matrix)"
      ]
    },
    {
      "cell_type": "code",
      "execution_count": null,
      "metadata": {
        "id": "O5sQJrnitAY3"
      },
      "outputs": [],
      "source": [
        "connectivity_matrix.index.name = 'Gene'"
      ]
    },
    {
      "cell_type": "code",
      "execution_count": null,
      "metadata": {
        "colab": {
          "base_uri": "https://localhost:8080/",
          "height": 267
        },
        "id": "ZOicYJdstAY4",
        "outputId": "0339959d-7f57-4396-dc89-e70ab98a1884"
      },
      "outputs": [
        {
          "output_type": "execute_result",
          "data": {
            "text/plain": [
              "Gene      A1BG   A1CF    A2M  A2ML1  A3GALT2  A4GALT  A4GNT   AAAS   AACS  \\\n",
              "Gene                                                                        \n",
              "A1BG     False  False  False  False    False   False  False  False  False   \n",
              "A1CF     False  False  False  False    False   False  False  False  False   \n",
              "A2M      False  False  False  False    False   False  False  False  False   \n",
              "A2ML1    False  False  False  False    False   False  False  False  False   \n",
              "A3GALT2  False  False  False  False    False   False  False  False  False   \n",
              "\n",
              "Gene     AADAC  ...  ZWILCH  ZWINT   ZXDA   ZXDB   ZXDC  ZYG11A  ZYG11B  \\\n",
              "Gene            ...                                                       \n",
              "A1BG     False  ...   False  False  False  False  False   False   False   \n",
              "A1CF     False  ...   False  False  False  False  False   False   False   \n",
              "A2M      False  ...   False  False  False  False  False   False   False   \n",
              "A2ML1    False  ...   False  False  False  False  False   False   False   \n",
              "A3GALT2  False  ...   False  False  False  False  False   False   False   \n",
              "\n",
              "Gene       ZYX  ZZEF1   ZZZ3  \n",
              "Gene                          \n",
              "A1BG     False  False  False  \n",
              "A1CF     False  False  False  \n",
              "A2M      False  False  False  \n",
              "A2ML1    False  False  False  \n",
              "A3GALT2  False  False  False  \n",
              "\n",
              "[5 rows x 17386 columns]"
            ],
            "text/html": [
              "\n",
              "  <div id=\"df-d7d545e5-6076-4020-889b-d71d9af887fe\">\n",
              "    <div class=\"colab-df-container\">\n",
              "      <div>\n",
              "<style scoped>\n",
              "    .dataframe tbody tr th:only-of-type {\n",
              "        vertical-align: middle;\n",
              "    }\n",
              "\n",
              "    .dataframe tbody tr th {\n",
              "        vertical-align: top;\n",
              "    }\n",
              "\n",
              "    .dataframe thead th {\n",
              "        text-align: right;\n",
              "    }\n",
              "</style>\n",
              "<table border=\"1\" class=\"dataframe\">\n",
              "  <thead>\n",
              "    <tr style=\"text-align: right;\">\n",
              "      <th>Gene</th>\n",
              "      <th>A1BG</th>\n",
              "      <th>A1CF</th>\n",
              "      <th>A2M</th>\n",
              "      <th>A2ML1</th>\n",
              "      <th>A3GALT2</th>\n",
              "      <th>A4GALT</th>\n",
              "      <th>A4GNT</th>\n",
              "      <th>AAAS</th>\n",
              "      <th>AACS</th>\n",
              "      <th>AADAC</th>\n",
              "      <th>...</th>\n",
              "      <th>ZWILCH</th>\n",
              "      <th>ZWINT</th>\n",
              "      <th>ZXDA</th>\n",
              "      <th>ZXDB</th>\n",
              "      <th>ZXDC</th>\n",
              "      <th>ZYG11A</th>\n",
              "      <th>ZYG11B</th>\n",
              "      <th>ZYX</th>\n",
              "      <th>ZZEF1</th>\n",
              "      <th>ZZZ3</th>\n",
              "    </tr>\n",
              "    <tr>\n",
              "      <th>Gene</th>\n",
              "      <th></th>\n",
              "      <th></th>\n",
              "      <th></th>\n",
              "      <th></th>\n",
              "      <th></th>\n",
              "      <th></th>\n",
              "      <th></th>\n",
              "      <th></th>\n",
              "      <th></th>\n",
              "      <th></th>\n",
              "      <th></th>\n",
              "      <th></th>\n",
              "      <th></th>\n",
              "      <th></th>\n",
              "      <th></th>\n",
              "      <th></th>\n",
              "      <th></th>\n",
              "      <th></th>\n",
              "      <th></th>\n",
              "      <th></th>\n",
              "      <th></th>\n",
              "    </tr>\n",
              "  </thead>\n",
              "  <tbody>\n",
              "    <tr>\n",
              "      <th>A1BG</th>\n",
              "      <td>False</td>\n",
              "      <td>False</td>\n",
              "      <td>False</td>\n",
              "      <td>False</td>\n",
              "      <td>False</td>\n",
              "      <td>False</td>\n",
              "      <td>False</td>\n",
              "      <td>False</td>\n",
              "      <td>False</td>\n",
              "      <td>False</td>\n",
              "      <td>...</td>\n",
              "      <td>False</td>\n",
              "      <td>False</td>\n",
              "      <td>False</td>\n",
              "      <td>False</td>\n",
              "      <td>False</td>\n",
              "      <td>False</td>\n",
              "      <td>False</td>\n",
              "      <td>False</td>\n",
              "      <td>False</td>\n",
              "      <td>False</td>\n",
              "    </tr>\n",
              "    <tr>\n",
              "      <th>A1CF</th>\n",
              "      <td>False</td>\n",
              "      <td>False</td>\n",
              "      <td>False</td>\n",
              "      <td>False</td>\n",
              "      <td>False</td>\n",
              "      <td>False</td>\n",
              "      <td>False</td>\n",
              "      <td>False</td>\n",
              "      <td>False</td>\n",
              "      <td>False</td>\n",
              "      <td>...</td>\n",
              "      <td>False</td>\n",
              "      <td>False</td>\n",
              "      <td>False</td>\n",
              "      <td>False</td>\n",
              "      <td>False</td>\n",
              "      <td>False</td>\n",
              "      <td>False</td>\n",
              "      <td>False</td>\n",
              "      <td>False</td>\n",
              "      <td>False</td>\n",
              "    </tr>\n",
              "    <tr>\n",
              "      <th>A2M</th>\n",
              "      <td>False</td>\n",
              "      <td>False</td>\n",
              "      <td>False</td>\n",
              "      <td>False</td>\n",
              "      <td>False</td>\n",
              "      <td>False</td>\n",
              "      <td>False</td>\n",
              "      <td>False</td>\n",
              "      <td>False</td>\n",
              "      <td>False</td>\n",
              "      <td>...</td>\n",
              "      <td>False</td>\n",
              "      <td>False</td>\n",
              "      <td>False</td>\n",
              "      <td>False</td>\n",
              "      <td>False</td>\n",
              "      <td>False</td>\n",
              "      <td>False</td>\n",
              "      <td>False</td>\n",
              "      <td>False</td>\n",
              "      <td>False</td>\n",
              "    </tr>\n",
              "    <tr>\n",
              "      <th>A2ML1</th>\n",
              "      <td>False</td>\n",
              "      <td>False</td>\n",
              "      <td>False</td>\n",
              "      <td>False</td>\n",
              "      <td>False</td>\n",
              "      <td>False</td>\n",
              "      <td>False</td>\n",
              "      <td>False</td>\n",
              "      <td>False</td>\n",
              "      <td>False</td>\n",
              "      <td>...</td>\n",
              "      <td>False</td>\n",
              "      <td>False</td>\n",
              "      <td>False</td>\n",
              "      <td>False</td>\n",
              "      <td>False</td>\n",
              "      <td>False</td>\n",
              "      <td>False</td>\n",
              "      <td>False</td>\n",
              "      <td>False</td>\n",
              "      <td>False</td>\n",
              "    </tr>\n",
              "    <tr>\n",
              "      <th>A3GALT2</th>\n",
              "      <td>False</td>\n",
              "      <td>False</td>\n",
              "      <td>False</td>\n",
              "      <td>False</td>\n",
              "      <td>False</td>\n",
              "      <td>False</td>\n",
              "      <td>False</td>\n",
              "      <td>False</td>\n",
              "      <td>False</td>\n",
              "      <td>False</td>\n",
              "      <td>...</td>\n",
              "      <td>False</td>\n",
              "      <td>False</td>\n",
              "      <td>False</td>\n",
              "      <td>False</td>\n",
              "      <td>False</td>\n",
              "      <td>False</td>\n",
              "      <td>False</td>\n",
              "      <td>False</td>\n",
              "      <td>False</td>\n",
              "      <td>False</td>\n",
              "    </tr>\n",
              "  </tbody>\n",
              "</table>\n",
              "<p>5 rows × 17386 columns</p>\n",
              "</div>\n",
              "      <button class=\"colab-df-convert\" onclick=\"convertToInteractive('df-d7d545e5-6076-4020-889b-d71d9af887fe')\"\n",
              "              title=\"Convert this dataframe to an interactive table.\"\n",
              "              style=\"display:none;\">\n",
              "        \n",
              "  <svg xmlns=\"http://www.w3.org/2000/svg\" height=\"24px\"viewBox=\"0 0 24 24\"\n",
              "       width=\"24px\">\n",
              "    <path d=\"M0 0h24v24H0V0z\" fill=\"none\"/>\n",
              "    <path d=\"M18.56 5.44l.94 2.06.94-2.06 2.06-.94-2.06-.94-.94-2.06-.94 2.06-2.06.94zm-11 1L8.5 8.5l.94-2.06 2.06-.94-2.06-.94L8.5 2.5l-.94 2.06-2.06.94zm10 10l.94 2.06.94-2.06 2.06-.94-2.06-.94-.94-2.06-.94 2.06-2.06.94z\"/><path d=\"M17.41 7.96l-1.37-1.37c-.4-.4-.92-.59-1.43-.59-.52 0-1.04.2-1.43.59L10.3 9.45l-7.72 7.72c-.78.78-.78 2.05 0 2.83L4 21.41c.39.39.9.59 1.41.59.51 0 1.02-.2 1.41-.59l7.78-7.78 2.81-2.81c.8-.78.8-2.07 0-2.86zM5.41 20L4 18.59l7.72-7.72 1.47 1.35L5.41 20z\"/>\n",
              "  </svg>\n",
              "      </button>\n",
              "      \n",
              "  <style>\n",
              "    .colab-df-container {\n",
              "      display:flex;\n",
              "      flex-wrap:wrap;\n",
              "      gap: 12px;\n",
              "    }\n",
              "\n",
              "    .colab-df-convert {\n",
              "      background-color: #E8F0FE;\n",
              "      border: none;\n",
              "      border-radius: 50%;\n",
              "      cursor: pointer;\n",
              "      display: none;\n",
              "      fill: #1967D2;\n",
              "      height: 32px;\n",
              "      padding: 0 0 0 0;\n",
              "      width: 32px;\n",
              "    }\n",
              "\n",
              "    .colab-df-convert:hover {\n",
              "      background-color: #E2EBFA;\n",
              "      box-shadow: 0px 1px 2px rgba(60, 64, 67, 0.3), 0px 1px 3px 1px rgba(60, 64, 67, 0.15);\n",
              "      fill: #174EA6;\n",
              "    }\n",
              "\n",
              "    [theme=dark] .colab-df-convert {\n",
              "      background-color: #3B4455;\n",
              "      fill: #D2E3FC;\n",
              "    }\n",
              "\n",
              "    [theme=dark] .colab-df-convert:hover {\n",
              "      background-color: #434B5C;\n",
              "      box-shadow: 0px 1px 3px 1px rgba(0, 0, 0, 0.15);\n",
              "      filter: drop-shadow(0px 1px 2px rgba(0, 0, 0, 0.3));\n",
              "      fill: #FFFFFF;\n",
              "    }\n",
              "  </style>\n",
              "\n",
              "      <script>\n",
              "        const buttonEl =\n",
              "          document.querySelector('#df-d7d545e5-6076-4020-889b-d71d9af887fe button.colab-df-convert');\n",
              "        buttonEl.style.display =\n",
              "          google.colab.kernel.accessAllowed ? 'block' : 'none';\n",
              "\n",
              "        async function convertToInteractive(key) {\n",
              "          const element = document.querySelector('#df-d7d545e5-6076-4020-889b-d71d9af887fe');\n",
              "          const dataTable =\n",
              "            await google.colab.kernel.invokeFunction('convertToInteractive',\n",
              "                                                     [key], {});\n",
              "          if (!dataTable) return;\n",
              "\n",
              "          const docLinkHtml = 'Like what you see? Visit the ' +\n",
              "            '<a target=\"_blank\" href=https://colab.research.google.com/notebooks/data_table.ipynb>data table notebook</a>'\n",
              "            + ' to learn more about interactive tables.';\n",
              "          element.innerHTML = '';\n",
              "          dataTable['output_type'] = 'display_data';\n",
              "          await google.colab.output.renderOutput(dataTable, element);\n",
              "          const docLink = document.createElement('div');\n",
              "          docLink.innerHTML = docLinkHtml;\n",
              "          element.appendChild(docLink);\n",
              "        }\n",
              "      </script>\n",
              "    </div>\n",
              "  </div>\n",
              "  "
            ]
          },
          "metadata": {},
          "execution_count": 14
        }
      ],
      "source": [
        "connectivity_matrix.head()"
      ]
    },
    {
      "cell_type": "code",
      "execution_count": null,
      "metadata": {
        "id": "cLnCj7BltAY4"
      },
      "outputs": [],
      "source": [
        "connectivity_matrix.reset_index().to_feather('/content/drive/MyDrive/Professional/TDA_BRIC6/binary_matrix_{}.ftr'.format(TOP_CUTOFF))"
      ]
    },
    {
      "cell_type": "code",
      "execution_count": null,
      "metadata": {
        "id": "YQR-UxQ3tAY4"
      },
      "outputs": [],
      "source": [
        "import networkx as nx\n",
        "from networkx.algorithms import community"
      ]
    },
    {
      "cell_type": "code",
      "execution_count": null,
      "metadata": {
        "id": "M-zeoq-ktAY4"
      },
      "outputs": [],
      "source": [
        "# Convert dataframe to long form for networkX input\n",
        "# connectivity_matrix.index.name='Gene'\n",
        "# connectivity_matrix.reset_index().pivot_table()"
      ]
    },
    {
      "cell_type": "code",
      "execution_count": null,
      "metadata": {
        "id": "AFmZgFhVtAY5"
      },
      "outputs": [],
      "source": [
        "G = nx.from_numpy_matrix(connectivity_matrix.values)"
      ]
    },
    {
      "cell_type": "code",
      "source": [
        "communities_generator = community.girvan_newman(G)"
      ],
      "metadata": {
        "id": "k_-vTgZe1Gty"
      },
      "execution_count": null,
      "outputs": []
    },
    {
      "cell_type": "code",
      "execution_count": null,
      "metadata": {
        "id": "bSbX8w1EtAY5"
      },
      "outputs": [],
      "source": [
        "top_level_communities = next(communities_generator)\n",
        "next_level_communities = next(communities_generator)"
      ]
    },
    {
      "cell_type": "code",
      "source": [
        "#third_level_communities = next(communities_generator)\n",
        "community_order = sorted(map(sorted, next_level_communities))"
      ],
      "metadata": {
        "id": "mcZqZPlaITwW"
      },
      "execution_count": null,
      "outputs": []
    },
    {
      "cell_type": "code",
      "execution_count": null,
      "metadata": {
        "id": "l6ElHbEttAY5"
      },
      "outputs": [],
      "source": [
        "not_singleton_graphs = [community for community in community_order if len(community)>1]"
      ]
    },
    {
      "cell_type": "code",
      "execution_count": null,
      "metadata": {
        "id": "b_f9iPWotAY6",
        "colab": {
          "base_uri": "https://localhost:8080/"
        },
        "outputId": "40375004-9f5c-4879-9349-433a42eae4ff"
      },
      "outputs": [
        {
          "output_type": "execute_result",
          "data": {
            "text/plain": [
              "array(['A1BG', 'A1CF', 'A2M', 'A2ML1', 'A3GALT2'], dtype=object)"
            ]
          },
          "metadata": {},
          "execution_count": 23
        }
      ],
      "source": [
        "gene_names = coessentiality_matrix.index.values\n",
        "gene_names[0:5]"
      ]
    },
    {
      "cell_type": "code",
      "execution_count": null,
      "metadata": {
        "id": "RxQT_6XGtAY6"
      },
      "outputs": [],
      "source": [
        "def find_gene(community_list,gene_index):\n",
        "    #gene_index = gene_names[gene_names==gene].index.values[0]\n",
        "    for elem in community_list:\n",
        "        if gene_index in elem:\n",
        "            return elem\n",
        "            #return(str(gene_names.iloc[elem].values).replace(' ',','))"
      ]
    },
    {
      "cell_type": "code",
      "execution_count": null,
      "metadata": {
        "id": "kCVu_l_JtAY7"
      },
      "outputs": [],
      "source": [
        "def find_smallest_pvalue(graph,gene):\n",
        "    return coessentiality_matrix.iloc[find_gene(graph,gene),find_gene(graph,gene)].min().min()"
      ]
    },
    {
      "cell_type": "code",
      "execution_count": null,
      "metadata": {
        "id": "hik7lhu3tAY7",
        "colab": {
          "base_uri": "https://localhost:8080/"
        },
        "outputId": "405f27db-2420-48ea-8c60-aeccbd97cd4d"
      },
      "outputs": [
        {
          "output_type": "execute_result",
          "data": {
            "text/plain": [
              "5.123561697281349e-269"
            ]
          },
          "metadata": {},
          "execution_count": 26
        }
      ],
      "source": [
        "coessentiality_matrix.loc[['BIRC6','KCMF1','UBA6','UBR4'],['BIRC6','KCMF1','UBA6','UBR4']].min().min()"
      ]
    },
    {
      "cell_type": "code",
      "execution_count": null,
      "metadata": {
        "id": "tgjBmACEtAY7"
      },
      "outputs": [],
      "source": [
        "def convert_index_to_names(community_list):\n",
        "    community_gene_names = []\n",
        "    for community in community_list:\n",
        "        community_gene_names.append(gene_names[community])\n",
        "    #community_gene_names = [item for sublist in community_gene_names for item in sublist]\n",
        "    return community_gene_names"
      ]
    },
    {
      "cell_type": "code",
      "execution_count": null,
      "metadata": {
        "id": "_EF3FVlutAY7",
        "colab": {
          "base_uri": "https://localhost:8080/"
        },
        "outputId": "9e6336fe-112c-477c-ecc8-710240249a41"
      },
      "outputs": [
        {
          "output_type": "execute_result",
          "data": {
            "text/plain": [
              "array(['BEAN1'], dtype=object)"
            ]
          },
          "metadata": {},
          "execution_count": 28
        }
      ],
      "source": [
        "gene_names[find_gene(community_order,1439)]"
      ]
    },
    {
      "cell_type": "code",
      "execution_count": null,
      "metadata": {
        "id": "GkGlj_gqtAY8"
      },
      "outputs": [],
      "source": [
        "import community\n",
        "import networkx as nx\n",
        "import matplotlib.pyplot as plt"
      ]
    },
    {
      "cell_type": "code",
      "execution_count": null,
      "metadata": {
        "id": "587kLgwbtAY8"
      },
      "outputs": [],
      "source": [
        "min_pvalue_per_community = [find_smallest_pvalue(not_singleton_graphs,colony[0]) for colony in not_singleton_graphs]\n",
        "size_of_community = [len(colony) for colony in not_singleton_graphs]"
      ]
    },
    {
      "cell_type": "code",
      "execution_count": null,
      "metadata": {
        "id": "rPsAVnKDtAY8",
        "colab": {
          "base_uri": "https://localhost:8080/",
          "height": 206
        },
        "outputId": "941ec69f-2c88-4a9e-9700-ad1270a00d62"
      },
      "outputs": [
        {
          "output_type": "execute_result",
          "data": {
            "text/plain": [
              "                                           community  \\\n",
              "0                                [AAAS, NDC1, NUP35]   \n",
              "1         [AAGAB, AP2M1, AP2S1, CCDC32, FCHO2, TFRC]   \n",
              "2                                     [ABCB7, LYRM4]   \n",
              "3  [ABCD1, ACOX1, HSD17B4, PEX1, PEX10, PEX12, PE...   \n",
              "4  [ABI1, ACTR2, ACTR3, ARPC2, ARPC3, ARPC4, BRK1...   \n",
              "\n",
              "   min_pvalue_per_community  size_of_community  \n",
              "0             1.016897e-132                  3  \n",
              "1             1.125432e-232                  6  \n",
              "2              1.518996e-44                  2  \n",
              "3             2.181476e-101                 14  \n",
              "4             9.103846e-184                  8  "
            ],
            "text/html": [
              "\n",
              "  <div id=\"df-b1c99b4d-e0b8-41cf-87d8-af6b288c37b1\">\n",
              "    <div class=\"colab-df-container\">\n",
              "      <div>\n",
              "<style scoped>\n",
              "    .dataframe tbody tr th:only-of-type {\n",
              "        vertical-align: middle;\n",
              "    }\n",
              "\n",
              "    .dataframe tbody tr th {\n",
              "        vertical-align: top;\n",
              "    }\n",
              "\n",
              "    .dataframe thead th {\n",
              "        text-align: right;\n",
              "    }\n",
              "</style>\n",
              "<table border=\"1\" class=\"dataframe\">\n",
              "  <thead>\n",
              "    <tr style=\"text-align: right;\">\n",
              "      <th></th>\n",
              "      <th>community</th>\n",
              "      <th>min_pvalue_per_community</th>\n",
              "      <th>size_of_community</th>\n",
              "    </tr>\n",
              "  </thead>\n",
              "  <tbody>\n",
              "    <tr>\n",
              "      <th>0</th>\n",
              "      <td>[AAAS, NDC1, NUP35]</td>\n",
              "      <td>1.016897e-132</td>\n",
              "      <td>3</td>\n",
              "    </tr>\n",
              "    <tr>\n",
              "      <th>1</th>\n",
              "      <td>[AAGAB, AP2M1, AP2S1, CCDC32, FCHO2, TFRC]</td>\n",
              "      <td>1.125432e-232</td>\n",
              "      <td>6</td>\n",
              "    </tr>\n",
              "    <tr>\n",
              "      <th>2</th>\n",
              "      <td>[ABCB7, LYRM4]</td>\n",
              "      <td>1.518996e-44</td>\n",
              "      <td>2</td>\n",
              "    </tr>\n",
              "    <tr>\n",
              "      <th>3</th>\n",
              "      <td>[ABCD1, ACOX1, HSD17B4, PEX1, PEX10, PEX12, PE...</td>\n",
              "      <td>2.181476e-101</td>\n",
              "      <td>14</td>\n",
              "    </tr>\n",
              "    <tr>\n",
              "      <th>4</th>\n",
              "      <td>[ABI1, ACTR2, ACTR3, ARPC2, ARPC3, ARPC4, BRK1...</td>\n",
              "      <td>9.103846e-184</td>\n",
              "      <td>8</td>\n",
              "    </tr>\n",
              "  </tbody>\n",
              "</table>\n",
              "</div>\n",
              "      <button class=\"colab-df-convert\" onclick=\"convertToInteractive('df-b1c99b4d-e0b8-41cf-87d8-af6b288c37b1')\"\n",
              "              title=\"Convert this dataframe to an interactive table.\"\n",
              "              style=\"display:none;\">\n",
              "        \n",
              "  <svg xmlns=\"http://www.w3.org/2000/svg\" height=\"24px\"viewBox=\"0 0 24 24\"\n",
              "       width=\"24px\">\n",
              "    <path d=\"M0 0h24v24H0V0z\" fill=\"none\"/>\n",
              "    <path d=\"M18.56 5.44l.94 2.06.94-2.06 2.06-.94-2.06-.94-.94-2.06-.94 2.06-2.06.94zm-11 1L8.5 8.5l.94-2.06 2.06-.94-2.06-.94L8.5 2.5l-.94 2.06-2.06.94zm10 10l.94 2.06.94-2.06 2.06-.94-2.06-.94-.94-2.06-.94 2.06-2.06.94z\"/><path d=\"M17.41 7.96l-1.37-1.37c-.4-.4-.92-.59-1.43-.59-.52 0-1.04.2-1.43.59L10.3 9.45l-7.72 7.72c-.78.78-.78 2.05 0 2.83L4 21.41c.39.39.9.59 1.41.59.51 0 1.02-.2 1.41-.59l7.78-7.78 2.81-2.81c.8-.78.8-2.07 0-2.86zM5.41 20L4 18.59l7.72-7.72 1.47 1.35L5.41 20z\"/>\n",
              "  </svg>\n",
              "      </button>\n",
              "      \n",
              "  <style>\n",
              "    .colab-df-container {\n",
              "      display:flex;\n",
              "      flex-wrap:wrap;\n",
              "      gap: 12px;\n",
              "    }\n",
              "\n",
              "    .colab-df-convert {\n",
              "      background-color: #E8F0FE;\n",
              "      border: none;\n",
              "      border-radius: 50%;\n",
              "      cursor: pointer;\n",
              "      display: none;\n",
              "      fill: #1967D2;\n",
              "      height: 32px;\n",
              "      padding: 0 0 0 0;\n",
              "      width: 32px;\n",
              "    }\n",
              "\n",
              "    .colab-df-convert:hover {\n",
              "      background-color: #E2EBFA;\n",
              "      box-shadow: 0px 1px 2px rgba(60, 64, 67, 0.3), 0px 1px 3px 1px rgba(60, 64, 67, 0.15);\n",
              "      fill: #174EA6;\n",
              "    }\n",
              "\n",
              "    [theme=dark] .colab-df-convert {\n",
              "      background-color: #3B4455;\n",
              "      fill: #D2E3FC;\n",
              "    }\n",
              "\n",
              "    [theme=dark] .colab-df-convert:hover {\n",
              "      background-color: #434B5C;\n",
              "      box-shadow: 0px 1px 3px 1px rgba(0, 0, 0, 0.15);\n",
              "      filter: drop-shadow(0px 1px 2px rgba(0, 0, 0, 0.3));\n",
              "      fill: #FFFFFF;\n",
              "    }\n",
              "  </style>\n",
              "\n",
              "      <script>\n",
              "        const buttonEl =\n",
              "          document.querySelector('#df-b1c99b4d-e0b8-41cf-87d8-af6b288c37b1 button.colab-df-convert');\n",
              "        buttonEl.style.display =\n",
              "          google.colab.kernel.accessAllowed ? 'block' : 'none';\n",
              "\n",
              "        async function convertToInteractive(key) {\n",
              "          const element = document.querySelector('#df-b1c99b4d-e0b8-41cf-87d8-af6b288c37b1');\n",
              "          const dataTable =\n",
              "            await google.colab.kernel.invokeFunction('convertToInteractive',\n",
              "                                                     [key], {});\n",
              "          if (!dataTable) return;\n",
              "\n",
              "          const docLinkHtml = 'Like what you see? Visit the ' +\n",
              "            '<a target=\"_blank\" href=https://colab.research.google.com/notebooks/data_table.ipynb>data table notebook</a>'\n",
              "            + ' to learn more about interactive tables.';\n",
              "          element.innerHTML = '';\n",
              "          dataTable['output_type'] = 'display_data';\n",
              "          await google.colab.output.renderOutput(dataTable, element);\n",
              "          const docLink = document.createElement('div');\n",
              "          docLink.innerHTML = docLinkHtml;\n",
              "          element.appendChild(docLink);\n",
              "        }\n",
              "      </script>\n",
              "    </div>\n",
              "  </div>\n",
              "  "
            ]
          },
          "metadata": {},
          "execution_count": 31
        }
      ],
      "source": [
        "cluster_metrics = pd.DataFrame(list(zip(convert_index_to_names(not_singleton_graphs),min_pvalue_per_community,size_of_community)),columns=['community','min_pvalue_per_community','size_of_community'])\n",
        "cluster_metrics.head()"
      ]
    },
    {
      "cell_type": "code",
      "source": [
        "cluster_metrics.head()"
      ],
      "metadata": {
        "id": "79ANLo0BFapx",
        "colab": {
          "base_uri": "https://localhost:8080/",
          "height": 206
        },
        "outputId": "b5868c66-125e-4674-ec18-525e49523470"
      },
      "execution_count": null,
      "outputs": [
        {
          "output_type": "execute_result",
          "data": {
            "text/plain": [
              "                                           community  \\\n",
              "0                                [AAAS, NDC1, NUP35]   \n",
              "1         [AAGAB, AP2M1, AP2S1, CCDC32, FCHO2, TFRC]   \n",
              "2                                     [ABCB7, LYRM4]   \n",
              "3  [ABCD1, ACOX1, HSD17B4, PEX1, PEX10, PEX12, PE...   \n",
              "4  [ABI1, ACTR2, ACTR3, ARPC2, ARPC3, ARPC4, BRK1...   \n",
              "\n",
              "   min_pvalue_per_community  size_of_community  \n",
              "0             1.016897e-132                  3  \n",
              "1             1.125432e-232                  6  \n",
              "2              1.518996e-44                  2  \n",
              "3             2.181476e-101                 14  \n",
              "4             9.103846e-184                  8  "
            ],
            "text/html": [
              "\n",
              "  <div id=\"df-b4a2220a-eb96-4d8e-83fd-8ae723e85d7b\">\n",
              "    <div class=\"colab-df-container\">\n",
              "      <div>\n",
              "<style scoped>\n",
              "    .dataframe tbody tr th:only-of-type {\n",
              "        vertical-align: middle;\n",
              "    }\n",
              "\n",
              "    .dataframe tbody tr th {\n",
              "        vertical-align: top;\n",
              "    }\n",
              "\n",
              "    .dataframe thead th {\n",
              "        text-align: right;\n",
              "    }\n",
              "</style>\n",
              "<table border=\"1\" class=\"dataframe\">\n",
              "  <thead>\n",
              "    <tr style=\"text-align: right;\">\n",
              "      <th></th>\n",
              "      <th>community</th>\n",
              "      <th>min_pvalue_per_community</th>\n",
              "      <th>size_of_community</th>\n",
              "    </tr>\n",
              "  </thead>\n",
              "  <tbody>\n",
              "    <tr>\n",
              "      <th>0</th>\n",
              "      <td>[AAAS, NDC1, NUP35]</td>\n",
              "      <td>1.016897e-132</td>\n",
              "      <td>3</td>\n",
              "    </tr>\n",
              "    <tr>\n",
              "      <th>1</th>\n",
              "      <td>[AAGAB, AP2M1, AP2S1, CCDC32, FCHO2, TFRC]</td>\n",
              "      <td>1.125432e-232</td>\n",
              "      <td>6</td>\n",
              "    </tr>\n",
              "    <tr>\n",
              "      <th>2</th>\n",
              "      <td>[ABCB7, LYRM4]</td>\n",
              "      <td>1.518996e-44</td>\n",
              "      <td>2</td>\n",
              "    </tr>\n",
              "    <tr>\n",
              "      <th>3</th>\n",
              "      <td>[ABCD1, ACOX1, HSD17B4, PEX1, PEX10, PEX12, PE...</td>\n",
              "      <td>2.181476e-101</td>\n",
              "      <td>14</td>\n",
              "    </tr>\n",
              "    <tr>\n",
              "      <th>4</th>\n",
              "      <td>[ABI1, ACTR2, ACTR3, ARPC2, ARPC3, ARPC4, BRK1...</td>\n",
              "      <td>9.103846e-184</td>\n",
              "      <td>8</td>\n",
              "    </tr>\n",
              "  </tbody>\n",
              "</table>\n",
              "</div>\n",
              "      <button class=\"colab-df-convert\" onclick=\"convertToInteractive('df-b4a2220a-eb96-4d8e-83fd-8ae723e85d7b')\"\n",
              "              title=\"Convert this dataframe to an interactive table.\"\n",
              "              style=\"display:none;\">\n",
              "        \n",
              "  <svg xmlns=\"http://www.w3.org/2000/svg\" height=\"24px\"viewBox=\"0 0 24 24\"\n",
              "       width=\"24px\">\n",
              "    <path d=\"M0 0h24v24H0V0z\" fill=\"none\"/>\n",
              "    <path d=\"M18.56 5.44l.94 2.06.94-2.06 2.06-.94-2.06-.94-.94-2.06-.94 2.06-2.06.94zm-11 1L8.5 8.5l.94-2.06 2.06-.94-2.06-.94L8.5 2.5l-.94 2.06-2.06.94zm10 10l.94 2.06.94-2.06 2.06-.94-2.06-.94-.94-2.06-.94 2.06-2.06.94z\"/><path d=\"M17.41 7.96l-1.37-1.37c-.4-.4-.92-.59-1.43-.59-.52 0-1.04.2-1.43.59L10.3 9.45l-7.72 7.72c-.78.78-.78 2.05 0 2.83L4 21.41c.39.39.9.59 1.41.59.51 0 1.02-.2 1.41-.59l7.78-7.78 2.81-2.81c.8-.78.8-2.07 0-2.86zM5.41 20L4 18.59l7.72-7.72 1.47 1.35L5.41 20z\"/>\n",
              "  </svg>\n",
              "      </button>\n",
              "      \n",
              "  <style>\n",
              "    .colab-df-container {\n",
              "      display:flex;\n",
              "      flex-wrap:wrap;\n",
              "      gap: 12px;\n",
              "    }\n",
              "\n",
              "    .colab-df-convert {\n",
              "      background-color: #E8F0FE;\n",
              "      border: none;\n",
              "      border-radius: 50%;\n",
              "      cursor: pointer;\n",
              "      display: none;\n",
              "      fill: #1967D2;\n",
              "      height: 32px;\n",
              "      padding: 0 0 0 0;\n",
              "      width: 32px;\n",
              "    }\n",
              "\n",
              "    .colab-df-convert:hover {\n",
              "      background-color: #E2EBFA;\n",
              "      box-shadow: 0px 1px 2px rgba(60, 64, 67, 0.3), 0px 1px 3px 1px rgba(60, 64, 67, 0.15);\n",
              "      fill: #174EA6;\n",
              "    }\n",
              "\n",
              "    [theme=dark] .colab-df-convert {\n",
              "      background-color: #3B4455;\n",
              "      fill: #D2E3FC;\n",
              "    }\n",
              "\n",
              "    [theme=dark] .colab-df-convert:hover {\n",
              "      background-color: #434B5C;\n",
              "      box-shadow: 0px 1px 3px 1px rgba(0, 0, 0, 0.15);\n",
              "      filter: drop-shadow(0px 1px 2px rgba(0, 0, 0, 0.3));\n",
              "      fill: #FFFFFF;\n",
              "    }\n",
              "  </style>\n",
              "\n",
              "      <script>\n",
              "        const buttonEl =\n",
              "          document.querySelector('#df-b4a2220a-eb96-4d8e-83fd-8ae723e85d7b button.colab-df-convert');\n",
              "        buttonEl.style.display =\n",
              "          google.colab.kernel.accessAllowed ? 'block' : 'none';\n",
              "\n",
              "        async function convertToInteractive(key) {\n",
              "          const element = document.querySelector('#df-b4a2220a-eb96-4d8e-83fd-8ae723e85d7b');\n",
              "          const dataTable =\n",
              "            await google.colab.kernel.invokeFunction('convertToInteractive',\n",
              "                                                     [key], {});\n",
              "          if (!dataTable) return;\n",
              "\n",
              "          const docLinkHtml = 'Like what you see? Visit the ' +\n",
              "            '<a target=\"_blank\" href=https://colab.research.google.com/notebooks/data_table.ipynb>data table notebook</a>'\n",
              "            + ' to learn more about interactive tables.';\n",
              "          element.innerHTML = '';\n",
              "          dataTable['output_type'] = 'display_data';\n",
              "          await google.colab.output.renderOutput(dataTable, element);\n",
              "          const docLink = document.createElement('div');\n",
              "          docLink.innerHTML = docLinkHtml;\n",
              "          element.appendChild(docLink);\n",
              "        }\n",
              "      </script>\n",
              "    </div>\n",
              "  </div>\n",
              "  "
            ]
          },
          "metadata": {},
          "execution_count": 32
        }
      ]
    },
    {
      "cell_type": "code",
      "execution_count": null,
      "metadata": {
        "id": "WMY5_hnHtAY8"
      },
      "outputs": [],
      "source": [
        "cluster_metrics = cluster_metrics.sort_values(by='min_pvalue_per_community').reset_index(drop=True)\n",
        "cluster_metrics['community_string'] = cluster_metrics['community'].apply(lambda x: ','.join(map(str, x)))"
      ]
    },
    {
      "cell_type": "code",
      "source": [
        "cluster_metrics = cluster_metrics.loc[cluster_metrics.size_of_community>=3].sort_values(by='min_pvalue_per_community').reset_index(drop=True)\n",
        "cluster_metrics.head()"
      ],
      "metadata": {
        "id": "8b3qSrgHD4H8",
        "colab": {
          "base_uri": "https://localhost:8080/",
          "height": 206
        },
        "outputId": "3e190e15-6687-4e43-e7bf-08cd14b792ab"
      },
      "execution_count": null,
      "outputs": [
        {
          "output_type": "execute_result",
          "data": {
            "text/plain": [
              "                                           community  \\\n",
              "0  [HDAC8, MAU2, NIPBL, PAGR1, PAXIP1, PRR12, SMC...   \n",
              "1                           [NCAPD3, NCAPG2, NCAPH2]   \n",
              "2                 [PDCD5, PFDN1, PFDN4, PFDN5, VBP1]   \n",
              "3                [MAEA, RANBP9, UBE2H, WDR26, YPEL5]   \n",
              "4  [CYB5B, MBTPS1, MBTPS2, SCAP, SCD, SPRING1, SR...   \n",
              "\n",
              "   min_pvalue_per_community  size_of_community  \\\n",
              "0                       0.0                  8   \n",
              "1                       0.0                  3   \n",
              "2                       0.0                  5   \n",
              "3                       0.0                  5   \n",
              "4                       0.0                  8   \n",
              "\n",
              "                                    community_string  \n",
              "0     HDAC8,MAU2,NIPBL,PAGR1,PAXIP1,PRR12,SMC3,STAG2  \n",
              "1                               NCAPD3,NCAPG2,NCAPH2  \n",
              "2                       PDCD5,PFDN1,PFDN4,PFDN5,VBP1  \n",
              "3                      MAEA,RANBP9,UBE2H,WDR26,YPEL5  \n",
              "4  CYB5B,MBTPS1,MBTPS2,SCAP,SCD,SPRING1,SREBF1,TM...  "
            ],
            "text/html": [
              "\n",
              "  <div id=\"df-a2345efd-ebd6-44ee-b556-334242819415\">\n",
              "    <div class=\"colab-df-container\">\n",
              "      <div>\n",
              "<style scoped>\n",
              "    .dataframe tbody tr th:only-of-type {\n",
              "        vertical-align: middle;\n",
              "    }\n",
              "\n",
              "    .dataframe tbody tr th {\n",
              "        vertical-align: top;\n",
              "    }\n",
              "\n",
              "    .dataframe thead th {\n",
              "        text-align: right;\n",
              "    }\n",
              "</style>\n",
              "<table border=\"1\" class=\"dataframe\">\n",
              "  <thead>\n",
              "    <tr style=\"text-align: right;\">\n",
              "      <th></th>\n",
              "      <th>community</th>\n",
              "      <th>min_pvalue_per_community</th>\n",
              "      <th>size_of_community</th>\n",
              "      <th>community_string</th>\n",
              "    </tr>\n",
              "  </thead>\n",
              "  <tbody>\n",
              "    <tr>\n",
              "      <th>0</th>\n",
              "      <td>[HDAC8, MAU2, NIPBL, PAGR1, PAXIP1, PRR12, SMC...</td>\n",
              "      <td>0.0</td>\n",
              "      <td>8</td>\n",
              "      <td>HDAC8,MAU2,NIPBL,PAGR1,PAXIP1,PRR12,SMC3,STAG2</td>\n",
              "    </tr>\n",
              "    <tr>\n",
              "      <th>1</th>\n",
              "      <td>[NCAPD3, NCAPG2, NCAPH2]</td>\n",
              "      <td>0.0</td>\n",
              "      <td>3</td>\n",
              "      <td>NCAPD3,NCAPG2,NCAPH2</td>\n",
              "    </tr>\n",
              "    <tr>\n",
              "      <th>2</th>\n",
              "      <td>[PDCD5, PFDN1, PFDN4, PFDN5, VBP1]</td>\n",
              "      <td>0.0</td>\n",
              "      <td>5</td>\n",
              "      <td>PDCD5,PFDN1,PFDN4,PFDN5,VBP1</td>\n",
              "    </tr>\n",
              "    <tr>\n",
              "      <th>3</th>\n",
              "      <td>[MAEA, RANBP9, UBE2H, WDR26, YPEL5]</td>\n",
              "      <td>0.0</td>\n",
              "      <td>5</td>\n",
              "      <td>MAEA,RANBP9,UBE2H,WDR26,YPEL5</td>\n",
              "    </tr>\n",
              "    <tr>\n",
              "      <th>4</th>\n",
              "      <td>[CYB5B, MBTPS1, MBTPS2, SCAP, SCD, SPRING1, SR...</td>\n",
              "      <td>0.0</td>\n",
              "      <td>8</td>\n",
              "      <td>CYB5B,MBTPS1,MBTPS2,SCAP,SCD,SPRING1,SREBF1,TM...</td>\n",
              "    </tr>\n",
              "  </tbody>\n",
              "</table>\n",
              "</div>\n",
              "      <button class=\"colab-df-convert\" onclick=\"convertToInteractive('df-a2345efd-ebd6-44ee-b556-334242819415')\"\n",
              "              title=\"Convert this dataframe to an interactive table.\"\n",
              "              style=\"display:none;\">\n",
              "        \n",
              "  <svg xmlns=\"http://www.w3.org/2000/svg\" height=\"24px\"viewBox=\"0 0 24 24\"\n",
              "       width=\"24px\">\n",
              "    <path d=\"M0 0h24v24H0V0z\" fill=\"none\"/>\n",
              "    <path d=\"M18.56 5.44l.94 2.06.94-2.06 2.06-.94-2.06-.94-.94-2.06-.94 2.06-2.06.94zm-11 1L8.5 8.5l.94-2.06 2.06-.94-2.06-.94L8.5 2.5l-.94 2.06-2.06.94zm10 10l.94 2.06.94-2.06 2.06-.94-2.06-.94-.94-2.06-.94 2.06-2.06.94z\"/><path d=\"M17.41 7.96l-1.37-1.37c-.4-.4-.92-.59-1.43-.59-.52 0-1.04.2-1.43.59L10.3 9.45l-7.72 7.72c-.78.78-.78 2.05 0 2.83L4 21.41c.39.39.9.59 1.41.59.51 0 1.02-.2 1.41-.59l7.78-7.78 2.81-2.81c.8-.78.8-2.07 0-2.86zM5.41 20L4 18.59l7.72-7.72 1.47 1.35L5.41 20z\"/>\n",
              "  </svg>\n",
              "      </button>\n",
              "      \n",
              "  <style>\n",
              "    .colab-df-container {\n",
              "      display:flex;\n",
              "      flex-wrap:wrap;\n",
              "      gap: 12px;\n",
              "    }\n",
              "\n",
              "    .colab-df-convert {\n",
              "      background-color: #E8F0FE;\n",
              "      border: none;\n",
              "      border-radius: 50%;\n",
              "      cursor: pointer;\n",
              "      display: none;\n",
              "      fill: #1967D2;\n",
              "      height: 32px;\n",
              "      padding: 0 0 0 0;\n",
              "      width: 32px;\n",
              "    }\n",
              "\n",
              "    .colab-df-convert:hover {\n",
              "      background-color: #E2EBFA;\n",
              "      box-shadow: 0px 1px 2px rgba(60, 64, 67, 0.3), 0px 1px 3px 1px rgba(60, 64, 67, 0.15);\n",
              "      fill: #174EA6;\n",
              "    }\n",
              "\n",
              "    [theme=dark] .colab-df-convert {\n",
              "      background-color: #3B4455;\n",
              "      fill: #D2E3FC;\n",
              "    }\n",
              "\n",
              "    [theme=dark] .colab-df-convert:hover {\n",
              "      background-color: #434B5C;\n",
              "      box-shadow: 0px 1px 3px 1px rgba(0, 0, 0, 0.15);\n",
              "      filter: drop-shadow(0px 1px 2px rgba(0, 0, 0, 0.3));\n",
              "      fill: #FFFFFF;\n",
              "    }\n",
              "  </style>\n",
              "\n",
              "      <script>\n",
              "        const buttonEl =\n",
              "          document.querySelector('#df-a2345efd-ebd6-44ee-b556-334242819415 button.colab-df-convert');\n",
              "        buttonEl.style.display =\n",
              "          google.colab.kernel.accessAllowed ? 'block' : 'none';\n",
              "\n",
              "        async function convertToInteractive(key) {\n",
              "          const element = document.querySelector('#df-a2345efd-ebd6-44ee-b556-334242819415');\n",
              "          const dataTable =\n",
              "            await google.colab.kernel.invokeFunction('convertToInteractive',\n",
              "                                                     [key], {});\n",
              "          if (!dataTable) return;\n",
              "\n",
              "          const docLinkHtml = 'Like what you see? Visit the ' +\n",
              "            '<a target=\"_blank\" href=https://colab.research.google.com/notebooks/data_table.ipynb>data table notebook</a>'\n",
              "            + ' to learn more about interactive tables.';\n",
              "          element.innerHTML = '';\n",
              "          dataTable['output_type'] = 'display_data';\n",
              "          await google.colab.output.renderOutput(dataTable, element);\n",
              "          const docLink = document.createElement('div');\n",
              "          docLink.innerHTML = docLinkHtml;\n",
              "          element.appendChild(docLink);\n",
              "        }\n",
              "      </script>\n",
              "    </div>\n",
              "  </div>\n",
              "  "
            ]
          },
          "metadata": {},
          "execution_count": 34
        }
      ]
    },
    {
      "cell_type": "code",
      "execution_count": null,
      "metadata": {
        "id": "nMBB1AxttAY8"
      },
      "outputs": [],
      "source": [
        "cluster_metrics.to_csv('/content/drive/MyDrive/Professional/TDA_BRIC6/cluster_{}.csv'.format(TOP_CUTOFF))"
      ]
    }
  ],
  "metadata": {
    "kernelspec": {
      "display_name": "Python [conda env:CompBio] *",
      "language": "python",
      "name": "conda-env-CompBio-py"
    },
    "language_info": {
      "codemirror_mode": {
        "name": "ipython",
        "version": 3
      },
      "file_extension": ".py",
      "mimetype": "text/x-python",
      "name": "python",
      "nbconvert_exporter": "python",
      "pygments_lexer": "ipython3",
      "version": "3.7.6"
    },
    "colab": {
      "provenance": [],
      "collapsed_sections": [],
      "machine_shape": "hm"
    }
  },
  "nbformat": 4,
  "nbformat_minor": 0
}